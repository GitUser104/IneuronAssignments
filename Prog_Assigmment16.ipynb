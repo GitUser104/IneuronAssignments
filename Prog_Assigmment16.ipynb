{
 "cells": [
  {
   "cell_type": "code",
   "execution_count": 7,
   "id": "5a4140ee",
   "metadata": {},
   "outputs": [],
   "source": [
    "#Question1\n",
    "def stutter(a):\n",
    "    '''This function makes it look like as if someone is stuttering'''\n",
    "    if type(a) == str:\n",
    "        k = ((a[0:2]+'...')*2+(a+'?'))\n",
    "        return k\n",
    "    else:\n",
    "        return 'please enter a string'\n",
    "            "
   ]
  },
  {
   "cell_type": "code",
   "execution_count": 19,
   "id": "b740209e",
   "metadata": {},
   "outputs": [],
   "source": [
    "#Question2\n",
    "def rad_to_deg(a):\n",
    "    '''Returns value in degrees corresponding to the radian value'''\n",
    "    if type(a) == int or type(a) == float:\n",
    "        k = round(a*(180/(22/7)),1)\n",
    "        return k\n",
    "    else:\n",
    "        return 'Please enter a valid argument'\n",
    "        "
   ]
  },
  {
   "cell_type": "code",
   "execution_count": 23,
   "id": "640eacf1",
   "metadata": {},
   "outputs": [],
   "source": [
    "#Question3\n",
    "'''Checks if a number is a curzon number or not'''\n",
    "def check_curz(a):\n",
    "    if type(a) == int:\n",
    "        x = 2**a+1\n",
    "        y = 2*a+1 \n",
    "        if x%y == 0:\n",
    "            return 'Its a curzon number'\n",
    "        else:\n",
    "            return 'Not a curzon number'\n",
    "    else:\n",
    "        return 'Enter a valid argument'"
   ]
  },
  {
   "cell_type": "code",
   "execution_count": 45,
   "id": "3bd19e30",
   "metadata": {},
   "outputs": [],
   "source": [
    "#Question4\n",
    "'''Returns the area of a hexagon provided length of one side'''\n",
    "def area_hex(s):\n",
    "    import math\n",
    "    if type(s) == int or type(s) == float:\n",
    "        A = round(((3*(math.sqrt(3)))*s**2)/2,1)\n",
    "        return A\n",
    "    else:\n",
    "        return 'Enter a valid argument'\n",
    "    "
   ]
  },
  {
   "cell_type": "code",
   "execution_count": 1,
   "id": "09e79a22",
   "metadata": {},
   "outputs": [],
   "source": [
    "#Question5\n",
    "def dec_to_binary(n):\n",
    "'''Return the binary code for a value of base 10'''\n",
    "    if n>1:\n",
    "        dec_to_binary(n//2)\n",
    "    print(n%2,end='')\n",
    "            "
   ]
  },
  {
   "cell_type": "code",
   "execution_count": null,
   "id": "b0a7fb77",
   "metadata": {},
   "outputs": [],
   "source": []
  }
 ],
 "metadata": {
  "kernelspec": {
   "display_name": "Python 3 (ipykernel)",
   "language": "python",
   "name": "python3"
  },
  "language_info": {
   "codemirror_mode": {
    "name": "ipython",
    "version": 3
   },
   "file_extension": ".py",
   "mimetype": "text/x-python",
   "name": "python",
   "nbconvert_exporter": "python",
   "pygments_lexer": "ipython3",
   "version": "3.9.12"
  }
 },
 "nbformat": 4,
 "nbformat_minor": 5
}
