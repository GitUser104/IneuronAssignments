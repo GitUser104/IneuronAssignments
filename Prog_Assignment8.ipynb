{
 "cells": [
  {
   "cell_type": "code",
   "execution_count": 4,
   "id": "b3e4a2dd",
   "metadata": {},
   "outputs": [
    {
     "name": "stdout",
     "output_type": "stream",
     "text": [
      "[[3, 6, 9], [9, 12, 15], [16, 19, 22]]\n"
     ]
    }
   ],
   "source": [
    "#Add two matrices \n",
    "a = [[1,2,3],[3,4,5],[6,7,8]]\n",
    "b = [[2,4,6],[6,8,10],[10,12,14]]\n",
    "k = [[0,0,0],[0,0,0],[0,0,0]]\n",
    "for i in range (0,len(a)):\n",
    "    for j in range(0,len(a[0])):\n",
    "        k[i][j] = a[i][j] + b[i][j]\n",
    "\n",
    "print(k)\n"
   ]
  },
  {
   "cell_type": "code",
   "execution_count": 14,
   "id": "142beaf9",
   "metadata": {},
   "outputs": [
    {
     "name": "stdout",
     "output_type": "stream",
     "text": [
      "[[44, 56, 68], [76, 96, 116], [134, 176, 218]]\n"
     ]
    }
   ],
   "source": [
    "#Multiply 2 matrices\n",
    "a = [[1,2,3],[1,4,5],[6,7,8]]\n",
    "b = [[2,4,6],[6,8,10],[10,12,14]]\n",
    "k = [[0,0,0],[0,0,0],[0,0,0]]\n",
    "for i in range(0,len(a)):\n",
    "    for j in range(0,len(b)):\n",
    "        for r in range(0,len(b[0])):\n",
    "            k[i][j] += a[i][r] * b[r][j]\n",
    "print(k)\n"
   ]
  },
  {
   "cell_type": "code",
   "execution_count": 15,
   "id": "870e5873",
   "metadata": {},
   "outputs": [
    {
     "name": "stdout",
     "output_type": "stream",
     "text": [
      "[[1, 1, 6], [2, 4, 7], [3, 5, 8]]\n"
     ]
    }
   ],
   "source": [
    "#Transpose a matrix\n",
    "a = [[1,2,3],[1,4,5],[6,7,8]]\n",
    "for i in range(0,len(a)):\n",
    "    for j in range(0, len(a[0])):\n",
    "        k[i][j] = a[j][i]\n",
    "print(k)"
   ]
  },
  {
   "cell_type": "code",
   "execution_count": 38,
   "id": "fe88d83e",
   "metadata": {},
   "outputs": [
    {
     "name": "stdout",
     "output_type": "stream",
     "text": [
      "['goat', 'is', 'messi', 'the']\n"
     ]
    }
   ],
   "source": [
    "#Sorting words in alphabetical order\n",
    "a = 'messi is the goat'\n",
    "c = a.split()\n",
    "k = sorted(c)\n",
    "print(k)"
   ]
  },
  {
   "cell_type": "code",
   "execution_count": 66,
   "id": "d0f6b19e",
   "metadata": {},
   "outputs": [
    {
     "name": "stdout",
     "output_type": "stream",
     "text": [
      "Argentina , will win the world cup! It will be great.\n"
     ]
    }
   ],
   "source": [
    "#Python program to remove punctuation from a string\n",
    "a = 'Argentina , will win the world cup! It will be great.'\n",
    "special = [',']\n",
    "for i in a:\n",
    "    if i in special == True:\n",
    "        a.replace(i,'')\n",
    "print(a)"
   ]
  },
  {
   "cell_type": "code",
   "execution_count": 72,
   "id": "ff183fe9",
   "metadata": {},
   "outputs": [
    {
     "name": "stdout",
     "output_type": "stream",
     "text": [
      "Argentina , will win the world cup! It will be great.\n"
     ]
    }
   ],
   "source": [
    "for i in a:\n",
    "    if i in special:\n",
    "        break \n",
    "        a.replace(i,'')\n",
    "print(a)\n",
    "        \n",
    "    "
   ]
  }
 ],
 "metadata": {
  "kernelspec": {
   "display_name": "Python 3 (ipykernel)",
   "language": "python",
   "name": "python3"
  },
  "language_info": {
   "codemirror_mode": {
    "name": "ipython",
    "version": 3
   },
   "file_extension": ".py",
   "mimetype": "text/x-python",
   "name": "python",
   "nbconvert_exporter": "python",
   "pygments_lexer": "ipython3",
   "version": "3.9.12"
  }
 },
 "nbformat": 4,
 "nbformat_minor": 5
}
