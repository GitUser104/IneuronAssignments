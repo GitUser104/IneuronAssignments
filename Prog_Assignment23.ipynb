{
 "cells": [
  {
   "cell_type": "code",
   "execution_count": 19,
   "id": "a013a118",
   "metadata": {},
   "outputs": [],
   "source": [
    "#Question1\n",
    "def is_symmetrical(n):\n",
    "    '''Returns True or False depending on whether the number is symmetrical or not'''\n",
    "    n = str(n)\n",
    "    l = []\n",
    "    for i in n:\n",
    "        l.append(i)\n",
    "    k = list(reversed(l))\n",
    "    n2 = ''.join(k) \n",
    "    if n == n2:\n",
    "        return True \n",
    "    else:\n",
    "        return False\n",
    "    \n",
    "        \n",
    "    \n",
    "    "
   ]
  },
  {
   "cell_type": "code",
   "execution_count": 18,
   "id": "a71a0244",
   "metadata": {},
   "outputs": [],
   "source": [
    "#Question2\n",
    "def multiply_numbers(s):\n",
    "    '''Return the product of the numbers.'''\n",
    "    l = s.split(', ')\n",
    "    prod = 1\n",
    "    for i in l:\n",
    "        prod *= int(i)\n",
    "    return prod "
   ]
  },
  {
   "cell_type": "code",
   "execution_count": 15,
   "id": "13649b82",
   "metadata": {},
   "outputs": [],
   "source": [
    "#Question3\n",
    "def square_digits(n):\n",
    "    '''Squares every digit of a number'''\n",
    "    n = str(n)\n",
    "    l = []\n",
    "    for i in n:\n",
    "        l.append(i)\n",
    "    k = []\n",
    "    for i in l:\n",
    "        i = int(i)**2\n",
    "        k.append(i)\n",
    "    m = []\n",
    "    for i in k:\n",
    "        i = str(i)\n",
    "        m.append(i)\n",
    "    fele = ''.join(m)\n",
    "    fele = int(fele)\n",
    "    return fele"
   ]
  },
  {
   "cell_type": "code",
   "execution_count": 16,
   "id": "0dc9207c",
   "metadata": {},
   "outputs": [],
   "source": [
    "#Question4\n",
    "def setify(l):\n",
    "    '''Sorts a list and removes all duplicate items from it'''\n",
    "    \n",
    "    k = []\n",
    "    for i in range(0,len(l)):\n",
    "        for j in range(i+1,len(l)):\n",
    "            if l[i] == l[j]:\n",
    "                k.append(l[i])\n",
    "    print(k)\n",
    "    for i in l:\n",
    "        if i not in k:\n",
    "            k.append(i) \n",
    "    k.sort()\n",
    "    return k\n",
    "            \n",
    "#ONE USE CASE IS FAILING"
   ]
  },
  {
   "cell_type": "code",
   "execution_count": 17,
   "id": "b09bfdb3",
   "metadata": {},
   "outputs": [],
   "source": [
    "#Question5\n",
    "def mean(n):\n",
    "    '''Returns the mean of all digits'''\n",
    "    l = [int(n) for n in str(n)]\n",
    "    m = 0\n",
    "    for i in l:\n",
    "        m += i \n",
    "    return m//len(l)\n",
    "        \n",
    "        \n",
    "        \n",
    "        "
   ]
  }
 ],
 "metadata": {
  "kernelspec": {
   "display_name": "Python 3 (ipykernel)",
   "language": "python",
   "name": "python3"
  },
  "language_info": {
   "codemirror_mode": {
    "name": "ipython",
    "version": 3
   },
   "file_extension": ".py",
   "mimetype": "text/x-python",
   "name": "python",
   "nbconvert_exporter": "python",
   "pygments_lexer": "ipython3",
   "version": "3.9.12"
  }
 },
 "nbformat": 4,
 "nbformat_minor": 5
}
