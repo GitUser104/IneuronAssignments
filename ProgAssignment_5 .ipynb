{
 "cells": [
  {
   "cell_type": "code",
   "execution_count": 32,
   "id": "0ee18a55",
   "metadata": {},
   "outputs": [
    {
     "name": "stdout",
     "output_type": "stream",
     "text": [
      "Enter first number: 14\n",
      "Enter second number: 6\n",
      "2\n"
     ]
    }
   ],
   "source": [
    "#Finding the LCM \n",
    "a = int(input('Enter first number: '))\n",
    "b = int(input('Enter second number: '))\n",
    "\n",
    "if a>b:\n",
    "    for i in range(2,a+1):\n",
    "        if a%i == 0 and b%i == 0 :\n",
    "            print(i)\n",
    "            break\n",
    "        else:\n",
    "            pass\n",
    "elif b>a:\n",
    "    for i in range(2,b+1):\n",
    "        if a%i == 0 and b%i == 0 :\n",
    "            print(i)\n",
    "            break\n",
    "        else:\n",
    "            pass \n",
    "elif a == b :\n",
    "    print(a*b)\n",
    "else:\n",
    "    print('theek hai bhai mai chalta hu')\n",
    "            "
   ]
  },
  {
   "cell_type": "code",
   "execution_count": null,
   "id": "b0165e90",
   "metadata": {},
   "outputs": [],
   "source": [
    "#HCF of two numbers\n",
    "a = int(input())\n",
    "b = int(input())\n",
    "\n",
    "if a > b :\n",
    "    for i in range"
   ]
  },
  {
   "cell_type": "code",
   "execution_count": 2,
   "id": "5c61c0f7",
   "metadata": {},
   "outputs": [
    {
     "name": "stdout",
     "output_type": "stream",
     "text": [
      "Enter integer value: 45\n",
      "45.0 is the decimal value\n",
      "0b101101 is the binary value\n",
      "0x2d is the hexadecimal value\n"
     ]
    }
   ],
   "source": [
    "#Python program to convert decimal no\n",
    "dec = input('Enter integer value: ')\n",
    "#for decimal\n",
    "print(float(dec), 'is the decimal value')\n",
    "#for binary\n",
    "print(bin(int(dec)), 'is the binary value')\n",
    "#for hexadecimal \n",
    "print(hex(int(dec)), 'is the hexadecimal value')\n",
    "#for octal \n",
    "# print(oct(int(dec)), 'is the octal value')\n"
   ]
  },
  {
   "cell_type": "code",
   "execution_count": 10,
   "id": "232ad6ee",
   "metadata": {},
   "outputs": [
    {
     "name": "stdout",
     "output_type": "stream",
     "text": [
      "enter a charater: 4\n",
      "52\n"
     ]
    }
   ],
   "source": [
    "#ASCII values of a character \n",
    "a = input(\"enter a charater: \")\n",
    "print(ord(a))"
   ]
  },
  {
   "cell_type": "code",
   "execution_count": 3,
   "id": "2fa61cf5",
   "metadata": {},
   "outputs": [
    {
     "name": "stdout",
     "output_type": "stream",
     "text": [
      "Choose an operation :1.Addition 2.Subtraction 3.Multiply 4.Divide\n",
      "Enter operation number: 3\n",
      "Enter first value: 5\n",
      "Enter second value: 6\n",
      "30\n"
     ]
    }
   ],
   "source": [
    "#Simple Calculator \n",
    "def add(a,b):\n",
    "    return a+b\n",
    "def sub(a,b):\n",
    "    return a-b\n",
    "def multiply(a,b):\n",
    "    return a*b\n",
    "def divide(a,b):\n",
    "    return a/b\n",
    "\n",
    "print('Choose an operation :'\n",
    "         '1.Addition',\n",
    "         '2.Subtraction',\n",
    "         '3.Multiply',\n",
    "         '4.Divide')\n",
    "\n",
    "select = int(input('Enter operation number: '))\n",
    "m = int(input('Enter first value: '))\n",
    "n = int(input('Enter second value: '))\n",
    "\n",
    "if select == 1:\n",
    "    k = add(m,n)\n",
    "    print(k)\n",
    "elif select == 2:\n",
    "    k = sub(m,n)\n",
    "    print(k)\n",
    "elif select == 3:\n",
    "    k = multiply(m,n)\n",
    "    print(k)\n",
    "elif select == 4:\n",
    "    k = divide(m,n)\n",
    "    print(k)\n",
    "else: \n",
    "    print('error')\n",
    "\n",
    "\n",
    "\n"
   ]
  }
 ],
 "metadata": {
  "kernelspec": {
   "display_name": "Python 3 (ipykernel)",
   "language": "python",
   "name": "python3"
  },
  "language_info": {
   "codemirror_mode": {
    "name": "ipython",
    "version": 3
   },
   "file_extension": ".py",
   "mimetype": "text/x-python",
   "name": "python",
   "nbconvert_exporter": "python",
   "pygments_lexer": "ipython3",
   "version": "3.9.12"
  }
 },
 "nbformat": 4,
 "nbformat_minor": 5
}
