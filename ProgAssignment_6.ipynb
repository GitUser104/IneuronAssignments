{
 "cells": [
  {
   "cell_type": "code",
   "execution_count": 22,
   "id": "4c84c0bd",
   "metadata": {},
   "outputs": [],
   "source": [
    "#Fibonacci using recursion\n",
    "def fib(a):\n",
    "    if a<0:\n",
    "        return 0\n",
    "    elif a == 1 or a == 2 :\n",
    "        return 1\n",
    "    else:\n",
    "        k = fib(a-1) + fib(a-2)\n",
    "        return k\n",
    "    \n",
    "    "
   ]
  },
  {
   "cell_type": "code",
   "execution_count": 20,
   "id": "d8b87c2f",
   "metadata": {},
   "outputs": [],
   "source": [
    "#Factorial using recursion\n",
    "def fact(a):\n",
    "    if a<0:\n",
    "        print('doesnt exist')\n",
    "    elif a==0 or a==1:\n",
    "        return 1\n",
    "    else:\n",
    "        k = a * fact(a-1)\n",
    "        return k\n"
   ]
  },
  {
   "cell_type": "code",
   "execution_count": 21,
   "id": "4767b4d3",
   "metadata": {},
   "outputs": [],
   "source": [
    "#Body mass index \n",
    "def bmi():\n",
    "    w = float(input(\"Enter your weight in kgs: \"))\n",
    "    h = float(input(\"enter your height in meteres: \"))\n",
    "    return w/(h**2)\n",
    "\n",
    "    "
   ]
  },
  {
   "cell_type": "code",
   "execution_count": 25,
   "id": "046761ea",
   "metadata": {},
   "outputs": [
    {
     "name": "stdout",
     "output_type": "stream",
     "text": [
      "Enter a numnber: 2\n",
      "0.6931471805599453\n"
     ]
    }
   ],
   "source": [
    "#Program to find natural logarithm of any no \n",
    "import math \n",
    "a = int(input('Enter a numnber: '))\n",
    "log_a = math.log(a)\n",
    "print(log_a)"
   ]
  },
  {
   "cell_type": "code",
   "execution_count": 44,
   "id": "e91bafa6",
   "metadata": {},
   "outputs": [],
   "source": [
    "#Program to find sum of cubes \n",
    "def sum_of_cubes():\n",
    "    n = int(input('Enter the number upto which sum is needed: '))\n",
    "    l = []\n",
    "    if n<1:\n",
    "        print('Not valid')\n",
    "    else:\n",
    "        for i in range(1,n+1):\n",
    "            i = i**3\n",
    "            l.append(i)\n",
    "        print(sum(l))"
   ]
  }
 ],
 "metadata": {
  "kernelspec": {
   "display_name": "Python 3 (ipykernel)",
   "language": "python",
   "name": "python3"
  },
  "language_info": {
   "codemirror_mode": {
    "name": "ipython",
    "version": 3
   },
   "file_extension": ".py",
   "mimetype": "text/x-python",
   "name": "python",
   "nbconvert_exporter": "python",
   "pygments_lexer": "ipython3",
   "version": "3.9.12"
  }
 },
 "nbformat": 4,
 "nbformat_minor": 5
}
