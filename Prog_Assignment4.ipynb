{
 "cells": [
  {
   "cell_type": "code",
   "execution_count": 128,
   "id": "e63c397c",
   "metadata": {},
   "outputs": [
    {
     "name": "stdout",
     "output_type": "stream",
     "text": [
      "5\n",
      "5\n",
      "10\n",
      "15\n",
      "20\n"
     ]
    }
   ],
   "source": [
    "n = int(input())\n",
    "for i in range(1,n):\n",
    "    fact = n*i\n",
    "    print(fact)\n",
    "    \n"
   ]
  },
  {
   "cell_type": "code",
   "execution_count": 6,
   "id": "87a7d912",
   "metadata": {},
   "outputs": [
    {
     "name": "stdout",
     "output_type": "stream",
     "text": [
      "7\n",
      "7\n",
      "14\n",
      "21\n",
      "28\n",
      "35\n",
      "42\n",
      "49\n",
      "56\n",
      "63\n",
      "70\n"
     ]
    }
   ],
   "source": [
    "# multiplication table\n",
    "\n",
    "n = int(input())\n",
    "for i in range(1,11):\n",
    "    print(n*i)\n",
    "    "
   ]
  },
  {
   "cell_type": "code",
   "execution_count": 138,
   "id": "0ac0c79b",
   "metadata": {},
   "outputs": [
    {
     "name": "stdout",
     "output_type": "stream",
     "text": [
      "7\n",
      "2\n",
      "3\n",
      "2\n",
      "3\n",
      "5\n",
      "8\n",
      "13\n",
      "21\n",
      "34\n"
     ]
    }
   ],
   "source": [
    "#fibonacci sequence = 1,1,2,3,5,8,13,21.....\n",
    "\n",
    "nterm = int(input())\n",
    "n1 = int(input())\n",
    "n2 = int(input())\n",
    "count = 0\n",
    "\n",
    "if nterm < 0:\n",
    "    print('doesnt exist')\n",
    "elif nterm == 0:\n",
    "    print('factorial is 1')\n",
    "else:\n",
    "    while nterm>count:\n",
    "        print(n1)\n",
    "        nth = n1 + n2\n",
    "        n1 = n2 \n",
    "        n2 = nth\n",
    "        count = count +1\n",
    "    \n",
    "    \n",
    "    \n",
    "    \n"
   ]
  },
  {
   "cell_type": "code",
   "execution_count": 211,
   "id": "6f61f639",
   "metadata": {},
   "outputs": [],
   "source": [
    "#armstrong number\n",
    "def test(n):\n",
    "    n = input()\n",
    "    l = []\n",
    "    for i in n:\n",
    "        i = int(i)\n",
    "        i = i**3 \n",
    "        l.append(i)\n",
    "    num = sum(l)\n",
    "    n = int(n)\n",
    "    if num == n:\n",
    "        print('is an armstrong number')\n",
    "    else :\n",
    "        print('not an armstrong number')\n",
    "    \n",
    "    "
   ]
  },
  {
   "cell_type": "code",
   "execution_count": 4,
   "id": "2c99de55",
   "metadata": {},
   "outputs": [
    {
     "name": "stdout",
     "output_type": "stream",
     "text": [
      "7\n",
      "28\n"
     ]
    }
   ],
   "source": [
    "# sum of n natural numbers\n",
    "n = int(input())\n",
    "a = 0\n",
    "if n <= 0:\n",
    "    print('doesnt exist')\n",
    "else:\n",
    "    for i in range(1,n+1):\n",
    "        a = a + i\n",
    "    print(a)\n",
    "  "
   ]
  },
  {
   "cell_type": "code",
   "execution_count": null,
   "id": "86263df2",
   "metadata": {},
   "outputs": [],
   "source": []
  }
 ],
 "metadata": {
  "kernelspec": {
   "display_name": "Python 3 (ipykernel)",
   "language": "python",
   "name": "python3"
  },
  "language_info": {
   "codemirror_mode": {
    "name": "ipython",
    "version": 3
   },
   "file_extension": ".py",
   "mimetype": "text/x-python",
   "name": "python",
   "nbconvert_exporter": "python",
   "pygments_lexer": "ipython3",
   "version": "3.9.12"
  }
 },
 "nbformat": 4,
 "nbformat_minor": 5
}
