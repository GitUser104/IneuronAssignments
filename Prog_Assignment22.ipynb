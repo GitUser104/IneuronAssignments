{
 "cells": [
  {
   "cell_type": "code",
   "execution_count": 6,
   "id": "d7f3e87a",
   "metadata": {},
   "outputs": [],
   "source": [
    "#Question1\n",
    "def list_operation(x,y,n):\n",
    "    '''Returns a list with numbers in the range that are divisible by the third parameter n. '''\n",
    "    l = []\n",
    "    for i in range(x,y+1):\n",
    "        if i%n == 0:\n",
    "            l.append(i)\n",
    "        else:\n",
    "            pass\n",
    "    return l"
   ]
  },
  {
   "cell_type": "code",
   "execution_count": 10,
   "id": "828e0ef8",
   "metadata": {},
   "outputs": [],
   "source": [
    "#Question2\n",
    "def simon_says(l1,l2):\n",
    "    '''Returns True if the second list follows the first list by one element, and False otherwise'''\n",
    "    for i in range(0,len(l1)):\n",
    "        if l1[i] == l2[i+1]:\n",
    "            return True \n",
    "        else:\n",
    "            return False\n",
    "    \n",
    "        \n"
   ]
  },
  {
   "cell_type": "code",
   "execution_count": 20,
   "id": "c04efe76",
   "metadata": {},
   "outputs": [],
   "source": [
    "#Question3\n",
    "def society_name(a):\n",
    "    '''Takes in a list of names and returns the name of the secret society'''\n",
    "    sn = ''\n",
    "    for i in a:\n",
    "        sn += i[0]\n",
    "    ssn = ''.join(sorted(sn))\n",
    "    return ssn\n",
    "    "
   ]
  },
  {
   "cell_type": "code",
   "execution_count": 21,
   "id": "fa936470",
   "metadata": {},
   "outputs": [],
   "source": [
    "#Question4\n",
    "def is_isogram(s):\n",
    "    '''Takes a string and returns either True or False depending on whether or not it's an \"isogram\".'''\n",
    "    s = s.upper()\n",
    "    l = []\n",
    "    for i in s:\n",
    "        l.append(i)\n",
    "    flag = True\n",
    "    for i in range(0,len(l)):\n",
    "        for j in range(i+1,len(l)):\n",
    "            if l[i] == l[j]:\n",
    "                flag = False\n",
    "    print(flag)\n",
    "        "
   ]
  },
  {
   "cell_type": "code",
   "execution_count": 54,
   "id": "6a02f6c6",
   "metadata": {},
   "outputs": [],
   "source": [
    "#Question5\n",
    "def is_in_order(s):\n",
    "    '''Takes a string and returns True or False, depending on whether the characters are in order or not'''\n",
    "    l = []\n",
    "    for i in s:\n",
    "        l.append(i)\n",
    "    for i in range(0,len(l)):\n",
    "        for j in range(0,len(l)):\n",
    "            if l[i] < l[j]:\n",
    "                l[i],l[j] = l[j],l[i]\n",
    "    k = ''.join(l)\n",
    "    if s == k:\n",
    "        return True \n",
    "    else:\n",
    "        return False\n",
    "    \n",
    "                \n",
    "    \n",
    "            \n",
    "                \n",
    "                \n",
    "            "
   ]
  },
  {
   "cell_type": "code",
   "execution_count": null,
   "id": "b607d77f",
   "metadata": {},
   "outputs": [],
   "source": [
    "is_in_order()"
   ]
  }
 ],
 "metadata": {
  "kernelspec": {
   "display_name": "Python 3 (ipykernel)",
   "language": "python",
   "name": "python3"
  },
  "language_info": {
   "codemirror_mode": {
    "name": "ipython",
    "version": 3
   },
   "file_extension": ".py",
   "mimetype": "text/x-python",
   "name": "python",
   "nbconvert_exporter": "python",
   "pygments_lexer": "ipython3",
   "version": "3.9.12"
  }
 },
 "nbformat": 4,
 "nbformat_minor": 5
}
