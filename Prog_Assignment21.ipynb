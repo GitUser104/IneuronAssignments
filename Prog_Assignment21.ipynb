{
 "cells": [
  {
   "cell_type": "code",
   "execution_count": 14,
   "id": "ce52d439",
   "metadata": {},
   "outputs": [],
   "source": [
    "#Question1\n",
    "def next_in_line(a,b):\n",
    "    '''Add the number to the end of the list, then remove the first element of the list. \n",
    "       The function should then return the updated list.'''\n",
    "    if type(a) == list and type(b) == int:\n",
    "        if len(a) != 0:\n",
    "            a.append(b)\n",
    "            a.pop(0)\n",
    "            return a \n",
    "        else:\n",
    "            return 'No list selected'\n",
    "    elif type(b) == list and type(a) == int:\n",
    "        if len(b) != 0:\n",
    "            b.append(a)\n",
    "            b.pop(0)\n",
    "            return b\n",
    "        else:\n",
    "            return 'No list selected'\n",
    "    else:\n",
    "        return 'Not a valid argument'\n",
    "    "
   ]
  },
  {
   "cell_type": "code",
   "execution_count": 7,
   "id": "9fec7539",
   "metadata": {},
   "outputs": [],
   "source": [
    "#Question2 \n",
    "def get_budget(a):\n",
    "    '''Returns the sum of people's budgets'''\n",
    "    s = 0\n",
    "    for i in a:\n",
    "        s += i['budget']\n",
    "    return s\n",
    "    "
   ]
  },
  {
   "cell_type": "code",
   "execution_count": 30,
   "id": "78a3c0f9",
   "metadata": {},
   "outputs": [],
   "source": [
    "#Question4\n",
    "def compound_interest(p,t,r,n):\n",
    "    '''Returns the total amount after compound interest on principal amount'''\n",
    "    a = p*(1+r/n)**(n*t)\n",
    "    fa = round(a,2)\n",
    "    return fa\n",
    "    \n",
    "    "
   ]
  },
  {
   "cell_type": "code",
   "execution_count": 29,
   "id": "f09e9cdd",
   "metadata": {},
   "outputs": [
    {
     "data": {
      "text/plain": [
       "2007316.26"
      ]
     },
     "execution_count": 29,
     "metadata": {},
     "output_type": "execute_result"
    }
   ],
   "source": [
    "compound_interest(100000, 20, 0.15, 365)"
   ]
  },
  {
   "cell_type": "code",
   "execution_count": 40,
   "id": "6cb897d7",
   "metadata": {},
   "outputs": [],
   "source": [
    "#Question5\n",
    "def return_only_integer(a):\n",
    "    if type(a) == list:\n",
    "        k = []\n",
    "        for i in a:\n",
    "            if type(i) == int:\n",
    "                k.append(i)\n",
    "            else:\n",
    "                pass\n",
    "        return k \n",
    "    else:\n",
    "        return 'Enter a valid argument'"
   ]
  },
  {
   "cell_type": "code",
   "execution_count": null,
   "id": "782dfd66",
   "metadata": {},
   "outputs": [],
   "source": []
  },
  {
   "cell_type": "code",
   "execution_count": 43,
   "id": "e4e3be6d",
   "metadata": {},
   "outputs": [
    {
     "data": {
      "text/plain": [
       "[1]"
      ]
     },
     "execution_count": 43,
     "metadata": {},
     "output_type": "execute_result"
    }
   ],
   "source": [
    "return_only_integer([\"String\",  True,  3.3,  1])   \n",
    "    "
   ]
  },
  {
   "cell_type": "code",
   "execution_count": 23,
   "id": "77e3872b",
   "metadata": {},
   "outputs": [
    {
     "name": "stdout",
     "output_type": "stream",
     "text": [
      "e\n"
     ]
    }
   ],
   "source": []
  }
 ],
 "metadata": {
  "kernelspec": {
   "display_name": "Python 3 (ipykernel)",
   "language": "python",
   "name": "python3"
  },
  "language_info": {
   "codemirror_mode": {
    "name": "ipython",
    "version": 3
   },
   "file_extension": ".py",
   "mimetype": "text/x-python",
   "name": "python",
   "nbconvert_exporter": "python",
   "pygments_lexer": "ipython3",
   "version": "3.9.12"
  }
 },
 "nbformat": 4,
 "nbformat_minor": 5
}
