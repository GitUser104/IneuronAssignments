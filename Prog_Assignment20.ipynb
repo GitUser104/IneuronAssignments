{
 "cells": [
  {
   "cell_type": "code",
   "execution_count": 16,
   "id": "706b7c04",
   "metadata": {},
   "outputs": [],
   "source": [
    "#Question1\n",
    "def filter_list(a):\n",
    "    '''Returns a list of integers only from an input list'''\n",
    "    k = []\n",
    "    for i in a:\n",
    "        if type(i) == int:\n",
    "            k.append(i)\n",
    "        else:\n",
    "            pass\n",
    "    return k \n",
    "        "
   ]
  },
  {
   "cell_type": "code",
   "execution_count": 15,
   "id": "fe2e2ed8",
   "metadata": {},
   "outputs": [
    {
     "data": {
      "text/plain": [
       "[]"
      ]
     },
     "execution_count": 15,
     "metadata": {},
     "output_type": "execute_result"
    }
   ],
   "source": [
    "filter_list([\"Nothing\", \"here\"]) "
   ]
  },
  {
   "cell_type": "code",
   "execution_count": 21,
   "id": "f49ed70b",
   "metadata": {},
   "outputs": [],
   "source": [
    "#Question2 \n",
    "def add_indexes(l):\n",
    "    '''Returns a list of numbers where the each element's index is added to itself'''\n",
    "    k = []\n",
    "    for i in range(0,len(l)):\n",
    "        t = i + l[i]\n",
    "        k.append(t)\n",
    "    return k\n",
    "    "
   ]
  },
  {
   "cell_type": "code",
   "execution_count": 31,
   "id": "06c38561",
   "metadata": {},
   "outputs": [],
   "source": [
    "#Question3\n",
    "def cone_volume(a,b):\n",
    "    '''Returns the volume of the cone given height and radius respectively'''\n",
    "    vol = (((22/7*(b**2))*a)/3)\n",
    "    vol = round(vol,2)\n",
    "    return vol\n",
    "    "
   ]
  },
  {
   "cell_type": "code",
   "execution_count": 30,
   "id": "a210e17c",
   "metadata": {},
   "outputs": [
    {
     "data": {
      "text/plain": [
       "0.0"
      ]
     },
     "execution_count": 30,
     "metadata": {},
     "output_type": "execute_result"
    }
   ],
   "source": [
    "cone_volume(18,0)"
   ]
  },
  {
   "cell_type": "code",
   "execution_count": 94,
   "id": "ef4c2110",
   "metadata": {},
   "outputs": [],
   "source": [
    "#Question5\n",
    "def missing_num(l):\n",
    "    l1 = [i for i in range(1,11)]\n",
    "    \n",
    "            \n",
    "\n",
    "            \n",
    "    \n",
    "    "
   ]
  },
  {
   "cell_type": "code",
   "execution_count": null,
   "id": "cd867789",
   "metadata": {},
   "outputs": [],
   "source": []
  },
  {
   "cell_type": "code",
   "execution_count": 95,
   "id": "86752d9e",
   "metadata": {},
   "outputs": [
    {
     "data": {
      "text/plain": [
       "1"
      ]
     },
     "execution_count": 95,
     "metadata": {},
     "output_type": "execute_result"
    }
   ],
   "source": [
    "missing_num([1,2,3,4,5,6,7,8])"
   ]
  },
  {
   "cell_type": "code",
   "execution_count": 93,
   "id": "46be3db5",
   "metadata": {},
   "outputs": [
    {
     "name": "stdout",
     "output_type": "stream",
     "text": [
      "2\n",
      "4\n"
     ]
    }
   ],
   "source": [
    "a = [1,2,4,5,6,7,8,9,10]\n",
    "b = [2,3,4]\n",
    "for i in b:\n",
    "    if i in a:\n",
    "        print(i)\n",
    "    else:\n",
    "        pass\n"
   ]
  }
 ],
 "metadata": {
  "kernelspec": {
   "display_name": "Python 3 (ipykernel)",
   "language": "python",
   "name": "python3"
  },
  "language_info": {
   "codemirror_mode": {
    "name": "ipython",
    "version": 3
   },
   "file_extension": ".py",
   "mimetype": "text/x-python",
   "name": "python",
   "nbconvert_exporter": "python",
   "pygments_lexer": "ipython3",
   "version": "3.9.12"
  }
 },
 "nbformat": 4,
 "nbformat_minor": 5
}
