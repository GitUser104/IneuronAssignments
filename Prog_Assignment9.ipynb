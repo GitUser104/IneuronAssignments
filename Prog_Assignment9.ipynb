{
 "cells": [
  {
   "cell_type": "code",
   "execution_count": 27,
   "id": "572dcabb",
   "metadata": {},
   "outputs": [],
   "source": [
    "#Program to check if a given no is disarium\n",
    "def check_disarium(a):\n",
    "    a = str(a)\n",
    "    j = 1\n",
    "    k = 0\n",
    "\n",
    "    for i in a:\n",
    "        k += int(i)**j\n",
    "        j = j+1\n",
    "    if k == int(a):\n",
    "        return True\n",
    "    else:\n",
    "        return False\n",
    "        \n",
    "    \n",
    "\n"
   ]
  },
  {
   "cell_type": "code",
   "execution_count": 30,
   "id": "51a107a7",
   "metadata": {},
   "outputs": [
    {
     "name": "stdout",
     "output_type": "stream",
     "text": [
      "[1, 2, 3, 4, 5, 6, 7, 8, 9, 89]\n"
     ]
    }
   ],
   "source": [
    "#Program for all disarium nos b/w 1 to 100\n",
    "l = []\n",
    "for i in range(1,101):\n",
    "    if check_disarium(i) == True:\n",
    "        l.append(i)\n",
    "    else:\n",
    "        continue \n",
    "print(l)\n",
    "\n",
    "                "
   ]
  },
  {
   "cell_type": "code",
   "execution_count": 19,
   "id": "f7318683",
   "metadata": {},
   "outputs": [
    {
     "name": "stdout",
     "output_type": "stream",
     "text": [
      "is a disarium\n"
     ]
    }
   ],
   "source": [
    "#Program to check Happy Number \n",
    "\n",
    "a = 19 \n",
    "while a != \n"
   ]
  },
  {
   "cell_type": "code",
   "execution_count": null,
   "id": "cca944a2",
   "metadata": {},
   "outputs": [],
   "source": []
  },
  {
   "cell_type": "code",
   "execution_count": 118,
   "id": "43fae96b",
   "metadata": {},
   "outputs": [
    {
     "name": "stdout",
     "output_type": "stream",
     "text": [
      "36\n",
      "harshad\n"
     ]
    }
   ],
   "source": [
    "#Program for harshad number \n",
    "n = input()\n",
    "a = 0\n",
    "for i in n:\n",
    "    a += int(i)\n",
    "    n = int(n)\n",
    "if n%a == 0:\n",
    "    print('harshad')\n",
    "else:\n",
    "    print('not harshad')\n",
    "    \n",
    "    \n",
    "    \n",
    "    \n",
    "\n",
    "    \n",
    "    \n",
    "\n",
    "    \n",
    "    \n",
    "        "
   ]
  },
  {
   "cell_type": "code",
   "execution_count": 284,
   "id": "920cf8d8",
   "metadata": {},
   "outputs": [],
   "source": [
    "def check_pronic(n):\n",
    "    l = []\n",
    "    for i in range(1,n):\n",
    "        if n%i == 0:\n",
    "            l.append(i)\n",
    "    \n",
    "    for i in l:\n",
    "        i = i+1 \n",
    "        \n",
    "        if i in l:\n",
    "            return True\n",
    "            break \n",
    "        else:\n",
    "            return False\n",
    "        \n",
    "\n",
    "        \n",
    "        \n",
    "        \n",
    "\n",
    "        "
   ]
  },
  {
   "cell_type": "code",
   "execution_count": 288,
   "id": "59d7aa0e",
   "metadata": {},
   "outputs": [
    {
     "data": {
      "text/plain": [
       "False"
      ]
     },
     "execution_count": 288,
     "metadata": {},
     "output_type": "execute_result"
    }
   ],
   "source": [
    "check_pronic(2)"
   ]
  },
  {
   "cell_type": "code",
   "execution_count": null,
   "id": "30635986",
   "metadata": {},
   "outputs": [],
   "source": []
  }
 ],
 "metadata": {
  "kernelspec": {
   "display_name": "Python 3 (ipykernel)",
   "language": "python",
   "name": "python3"
  },
  "language_info": {
   "codemirror_mode": {
    "name": "ipython",
    "version": 3
   },
   "file_extension": ".py",
   "mimetype": "text/x-python",
   "name": "python",
   "nbconvert_exporter": "python",
   "pygments_lexer": "ipython3",
   "version": "3.9.12"
  }
 },
 "nbformat": 4,
 "nbformat_minor": 5
}
