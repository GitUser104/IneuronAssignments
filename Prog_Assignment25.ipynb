{
 "cells": [
  {
   "cell_type": "code",
   "execution_count": 7,
   "id": "6a7315da",
   "metadata": {},
   "outputs": [],
   "source": [
    "#Question1\n",
    "def equal(n1,n2,n3):\n",
    "    '''returns the amount of integers which are of equal value'''\n",
    "    if n1 == n2 == n3:\n",
    "        return 3\n",
    "    elif n1 == n2 or n1 == n3 or n2 == n1:\n",
    "        return 2\n",
    "    else:\n",
    "        return 0\n",
    "    \n",
    "    "
   ]
  },
  {
   "cell_type": "code",
   "execution_count": 22,
   "id": "ea1a51bb",
   "metadata": {},
   "outputs": [],
   "source": [
    "#Question2\n",
    "def dict_to_list(d):\n",
    "    '''Function that converts a dictionary into a list of keys-values tuples'''\n",
    "    t = []\n",
    "    for i in d.items():\n",
    "        t.append(i)\n",
    "    t.sort()\n",
    "    return t\n",
    "        "
   ]
  },
  {
   "cell_type": "code",
   "execution_count": 23,
   "id": "efd7f3cd",
   "metadata": {},
   "outputs": [],
   "source": [
    "#Question3\n",
    "def mapping(l):\n",
    "    '''Return the elements in the list in alphabetical order'''\n",
    "    d = {}\n",
    "    for i in l:\n",
    "        d[i] = i.upper()\n",
    "    print(d)\n",
    "\n",
    "\n"
   ]
  },
  {
   "cell_type": "code",
   "execution_count": 25,
   "id": "d8eacff0",
   "metadata": {},
   "outputs": [],
   "source": [
    "#Question4\n",
    "def vow_replace(s,w):\n",
    "    '''Replaces all vowels in a string with a specified vowel.'''    \n",
    "    print(s)\n",
    "    for i in s:\n",
    "        if i in vowel:\n",
    "            return s.replace(i,w)    \n",
    "            \n",
    "    "
   ]
  },
  {
   "cell_type": "code",
   "execution_count": 26,
   "id": "e7474f71",
   "metadata": {},
   "outputs": [],
   "source": [
    "#Question5\n",
    "def ascii_capitalize(s):\n",
    "    '''Capitalizes a letter if its ASCII code is even and returns its lower case version if its ASCII code is odd.'''\n",
    "    l = []\n",
    "    for i in s:\n",
    "        l.append(i)\n",
    "    for i in range(0,len(l)):\n",
    "        if ord(l[i])%2 == 0:\n",
    "            l[i] = l[i].upper()\n",
    "        elif l[i] == ' ':\n",
    "            pass\n",
    "        else:\n",
    "            l[i] = l[i].lower()\n",
    "    fs = ''.join(l)\n",
    "    return fs\n",
    "        "
   ]
  },
  {
   "cell_type": "code",
   "execution_count": null,
   "id": "33f4fc16",
   "metadata": {},
   "outputs": [],
   "source": []
  }
 ],
 "metadata": {
  "kernelspec": {
   "display_name": "Python 3 (ipykernel)",
   "language": "python",
   "name": "python3"
  },
  "language_info": {
   "codemirror_mode": {
    "name": "ipython",
    "version": 3
   },
   "file_extension": ".py",
   "mimetype": "text/x-python",
   "name": "python",
   "nbconvert_exporter": "python",
   "pygments_lexer": "ipython3",
   "version": "3.9.12"
  }
 },
 "nbformat": 4,
 "nbformat_minor": 5
}
