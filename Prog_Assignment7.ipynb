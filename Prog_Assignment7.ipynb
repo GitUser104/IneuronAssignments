{
 "cells": [
  {
   "cell_type": "code",
   "execution_count": 8,
   "id": "bdc6b08b",
   "metadata": {},
   "outputs": [],
   "source": [
    "#Sum of array \n",
    "arr = [1,2,3,4,5,6,7,8,9,10]\n",
    "def sum(arr):\n",
    "    a = 0 \n",
    "    for i in arr:\n",
    "        a = i + a\n",
    "    print(a)\n"
   ]
  },
  {
   "cell_type": "code",
   "execution_count": 21,
   "id": "d711f4b6",
   "metadata": {},
   "outputs": [
    {
     "name": "stdout",
     "output_type": "stream",
     "text": [
      "4675\n"
     ]
    }
   ],
   "source": [
    "#Largest element in an array\n",
    "arr = [1,23,5,6,7,45,78,435,56,4675,12]\n",
    "def largest():\n",
    "    a = arr[0]\n",
    "    for i in arr:\n",
    "        if i>a:\n",
    "            a = i\n",
    "    print(a)"
   ]
  },
  {
   "cell_type": "code",
   "execution_count": 53,
   "id": "694fda2b",
   "metadata": {},
   "outputs": [
    {
     "name": "stdout",
     "output_type": "stream",
     "text": [
      "[8, 6, 5, 4, 3, 12]\n"
     ]
    }
   ],
   "source": [
    "#Program for array rotation\n",
    "arr = [12,3,4,5,6,8]\n",
    "k = arr[::-1]\n",
    "print(k)"
   ]
  },
  {
   "cell_type": "code",
   "execution_count": 98,
   "id": "76ab0259",
   "metadata": {},
   "outputs": [
    {
     "ename": "TypeError",
     "evalue": "unsupported operand type(s) for -: 'list' and 'list'",
     "output_type": "error",
     "traceback": [
      "\u001b[1;31m---------------------------------------------------------------------------\u001b[0m",
      "\u001b[1;31mTypeError\u001b[0m                                 Traceback (most recent call last)",
      "Input \u001b[1;32mIn [98]\u001b[0m, in \u001b[0;36m<cell line: 3>\u001b[1;34m()\u001b[0m\n\u001b[0;32m      9\u001b[0m l1 \u001b[38;5;241m=\u001b[39m arr[\u001b[38;5;241m0\u001b[39m:\u001b[38;5;28mlen\u001b[39m(arr)\u001b[38;5;241m/\u001b[39m\u001b[38;5;241m/\u001b[39m\u001b[38;5;241m2\u001b[39m]\n\u001b[0;32m     10\u001b[0m l2 \u001b[38;5;241m=\u001b[39m arr[\u001b[38;5;28mlen\u001b[39m(arr)\u001b[38;5;241m/\u001b[39m\u001b[38;5;241m/\u001b[39m\u001b[38;5;241m2\u001b[39m\u001b[38;5;241m+\u001b[39m\u001b[38;5;241m1\u001b[39m:]\n\u001b[1;32m---> 11\u001b[0m s \u001b[38;5;241m=\u001b[39m \u001b[43marr\u001b[49m\u001b[43m \u001b[49m\u001b[38;5;241;43m-\u001b[39;49m\u001b[43m \u001b[49m\u001b[43ml1\u001b[49m\n\u001b[0;32m     12\u001b[0m s \u001b[38;5;241m=\u001b[39m arr \u001b[38;5;241m+\u001b[39m l2 \n\u001b[0;32m     13\u001b[0m \u001b[38;5;28mprint\u001b[39m(s)\n",
      "\u001b[1;31mTypeError\u001b[0m: unsupported operand type(s) for -: 'list' and 'list'"
     ]
    }
   ],
   "source": [
    "#Program to split the array and add first part to the end !!!!!!!!\n",
    "arr = [1,2,3,4,5,6,7]\n",
    "if len(arr)%2 == 0:\n",
    "    l1 = arr[0:len(arr)//2]\n",
    "    l2 = arr[len(arr)//2:]\n",
    "    s = l2 + l1 \n",
    "    print(s)\n",
    "else :\n",
    "    l1 = arr[0:len(arr)//2]\n",
    "    l2 = arr[len(arr)//2+1:]\n",
    "    s = arr - l1\n",
    "    s = arr + l2 \n",
    "    print(s)\n",
    "    "
   ]
  },
  {
   "cell_type": "code",
   "execution_count": 129,
   "id": "b989d60d",
   "metadata": {},
   "outputs": [],
   "source": [
    "#Program to check if monotonic or not \n",
    "arr = [1,2,3,6,7,8,9]\n",
    "a = 0\n",
    "for i in arr :\n",
    "    for j in range(arr[0 + a],arr[-1]):\n",
    "        if i > j:\n",
    "            print('not monotonic')\n",
    "        else:\n",
    "            break\n",
    "            print('monotonic')\n",
    "    a = a + 1\n",
    "            \n",
    "    \n",
    "        \n",
    "            "
   ]
  },
  {
   "cell_type": "code",
   "execution_count": 135,
   "id": "2740ac69",
   "metadata": {},
   "outputs": [
    {
     "name": "stdout",
     "output_type": "stream",
     "text": [
      "1\n",
      "2\n",
      "3\n",
      "4\n",
      "5\n"
     ]
    }
   ],
   "source": [
    "l = [1,2,3,4,5]\n",
    "for i in l:\n",
    "    print(i)"
   ]
  }
 ],
 "metadata": {
  "kernelspec": {
   "display_name": "Python 3 (ipykernel)",
   "language": "python",
   "name": "python3"
  },
  "language_info": {
   "codemirror_mode": {
    "name": "ipython",
    "version": 3
   },
   "file_extension": ".py",
   "mimetype": "text/x-python",
   "name": "python",
   "nbconvert_exporter": "python",
   "pygments_lexer": "ipython3",
   "version": "3.9.12"
  }
 },
 "nbformat": 4,
 "nbformat_minor": 5
}
