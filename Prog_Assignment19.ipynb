{
 "cells": [
  {
   "cell_type": "code",
   "execution_count": 33,
   "id": "5a7cfce7",
   "metadata": {},
   "outputs": [],
   "source": [
    "#Question1\n",
    "def rep_once(a):\n",
    "    '''Returns a string in which each character is repaeated once'''\n",
    "    l = []\n",
    "    for i in a:\n",
    "        i = (i*2)\n",
    "        \n",
    "        l.append(i)\n",
    "    k = ''.join(l)\n",
    "    return k\n",
    "    \n",
    "        \n",
    "        \n",
    "        \n",
    "        \n",
    "        \n",
    "    "
   ]
  },
  {
   "cell_type": "code",
   "execution_count": 39,
   "id": "1231749f",
   "metadata": {},
   "outputs": [],
   "source": [
    "#Question2\n",
    "def reverse(a):\n",
    "    '''Returns the reverse of input boolean value'''\n",
    "    if type(a) == bool:\n",
    "        if a == True:\n",
    "            return False \n",
    "        else:\n",
    "            return True\n",
    "    else:\n",
    "        return 'boolean expected'\n",
    "            "
   ]
  },
  {
   "cell_type": "code",
   "execution_count": 21,
   "id": "52bea396",
   "metadata": {},
   "outputs": [],
   "source": [
    "#Question3\n",
    "def num_layers(a):\n",
    "    '''Returns the thickness of the paper when folded input times'''\n",
    "    if a == 0:\n",
    "        return 0.0005\n",
    "    else:\n",
    "        a = a - 1\n",
    "        k = (2 * num_layers(a))\n",
    "        return k\n",
    "    \n",
    "    \n",
    "    "
   ]
  },
  {
   "cell_type": "code",
   "execution_count": 24,
   "id": "6af5709e",
   "metadata": {},
   "outputs": [],
   "source": [
    "#Question4\n",
    "def index_of_caps(a):\n",
    "    '''Returns the index position of all capital letters in input string'''\n",
    "    l = []\n",
    "    s1 = 'ABCEDFGHIJKLMNOPQRSTUVWXYZ'\n",
    "    for i in range(0,len(a)):\n",
    "        if a[i] in s1:\n",
    "            l.append(i)\n",
    "    return l"
   ]
  },
  {
   "cell_type": "code",
   "execution_count": 29,
   "id": "ae6a0a33",
   "metadata": {},
   "outputs": [
    {
     "data": {
      "text/plain": [
       "[1]"
      ]
     },
     "execution_count": 29,
     "metadata": {},
     "output_type": "execute_result"
    }
   ],
   "source": [
    "index_of_caps('sUn')"
   ]
  },
  {
   "cell_type": "code",
   "execution_count": 53,
   "id": "439e885a",
   "metadata": {},
   "outputs": [],
   "source": [
    "#Question5\n",
    "def find_even_nums(a):\n",
    "    l = [i for i in range(0,a+1) if (i%2 == 0)]\n",
    "    return l\n",
    "    "
   ]
  },
  {
   "cell_type": "code",
   "execution_count": 56,
   "id": "bfa44ee1",
   "metadata": {},
   "outputs": [
    {
     "data": {
      "text/plain": [
       "[0, 2, 4, 6, 8, 10, 12, 14, 16, 18, 20, 22, 24, 26, 28, 30, 32, 34, 36, 38, 40]"
      ]
     },
     "execution_count": 56,
     "metadata": {},
     "output_type": "execute_result"
    }
   ],
   "source": [
    "find_even_nums(40)"
   ]
  },
  {
   "cell_type": "code",
   "execution_count": 48,
   "id": "d3b2ec1e",
   "metadata": {},
   "outputs": [
    {
     "name": "stdout",
     "output_type": "stream",
     "text": [
      "0,2,4,6,8,"
     ]
    }
   ],
   "source": [
    "for i in range(0,10):\n",
    "    if i%2 == 0:\n",
    "        print(i,end=',')"
   ]
  }
 ],
 "metadata": {
  "kernelspec": {
   "display_name": "Python 3 (ipykernel)",
   "language": "python",
   "name": "python3"
  },
  "language_info": {
   "codemirror_mode": {
    "name": "ipython",
    "version": 3
   },
   "file_extension": ".py",
   "mimetype": "text/x-python",
   "name": "python",
   "nbconvert_exporter": "python",
   "pygments_lexer": "ipython3",
   "version": "3.9.12"
  }
 },
 "nbformat": 4,
 "nbformat_minor": 5
}
