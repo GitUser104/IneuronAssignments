{
 "cells": [
  {
   "cell_type": "code",
   "execution_count": 139,
   "id": "546e1f16",
   "metadata": {},
   "outputs": [],
   "source": [
    "#Question1\n",
    "def amplify(n):\n",
    "    '''Returns a list from 1 to the given number, where:\n",
    "    1.If the number can be divided evenly by 4, amplify it by 10 \n",
    "    2.If the number cannot be divided evenly by 4, simply return the number.'''\n",
    "    l = [n for n in range(1,n+1)]\n",
    "    l2 = []\n",
    "    for i in l:\n",
    "        if i%4 == 0:\n",
    "            l2.append(i*10)\n",
    "        else:\n",
    "            l2.append(i)\n",
    "    return l2"
   ]
  },
  {
   "cell_type": "code",
   "execution_count": 140,
   "id": "25de28c0",
   "metadata": {},
   "outputs": [],
   "source": [
    "#Question2\n",
    "def unique(l):\n",
    "    '''Create a function that takes a list of numbers and return the number that's unique.'''\n",
    "    for i in l:\n",
    "        if l.count(i) == 1:\n",
    "            return i\n",
    "    \n",
    "        \n",
    "        \n",
    "                "
   ]
  },
  {
   "cell_type": "code",
   "execution_count": 141,
   "id": "ff6f4093",
   "metadata": {},
   "outputs": [],
   "source": [
    "#Question4\n",
    "def shortest_to_longest(l):\n",
    "    '''Create a function that takes a list of strings and return a list, sorted from shortest to longest.'''\n",
    "    for i in range(0,len(l)):\n",
    "        for j in range(i+1,len(l)):\n",
    "            if len(l[i]) > len(l[j]):\n",
    "                l[i],l[j] = l[j],l[i]\n",
    "    return l\n",
    "\n",
    "        \n",
    "        \n"
   ]
  },
  {
   "cell_type": "code",
   "execution_count": 143,
   "id": "77004d01",
   "metadata": {},
   "outputs": [],
   "source": [
    "#Question5\n",
    "def is_triplet(n1,n2,n3):\n",
    "    '''A function that validates whether three given integers form a Pythagorean triplet. \n",
    "    Returns True if it is a Pythagorean triplet, false otherwise'''\n",
    "    if n1>n2 and n1>n3:\n",
    "        if (n2**2 + n3**2) == n1**2:\n",
    "            return True \n",
    "        else:\n",
    "            return False\n",
    "    elif n2>n1 and n2>n3:\n",
    "        if (n1**2 + n3**2) == n2**2:\n",
    "            return True \n",
    "        else:\n",
    "            return False\n",
    "    else:\n",
    "        if (n1**2 + n2**2) == n3**2:\n",
    "            return True \n",
    "        else:\n",
    "            return False\n",
    "        \n",
    "        "
   ]
  }
 ],
 "metadata": {
  "kernelspec": {
   "display_name": "Python 3 (ipykernel)",
   "language": "python",
   "name": "python3"
  },
  "language_info": {
   "codemirror_mode": {
    "name": "ipython",
    "version": 3
   },
   "file_extension": ".py",
   "mimetype": "text/x-python",
   "name": "python",
   "nbconvert_exporter": "python",
   "pygments_lexer": "ipython3",
   "version": "3.9.12"
  }
 },
 "nbformat": 4,
 "nbformat_minor": 5
}
