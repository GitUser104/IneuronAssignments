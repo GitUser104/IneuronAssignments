{
 "cells": [
  {
   "cell_type": "code",
   "execution_count": 10,
   "id": "f965dbd9",
   "metadata": {},
   "outputs": [],
   "source": [
    "#Question1\n",
    "def evenly_divisible(a,b,c):\n",
    "    '''Returns the sum of numbers in a range between first two numbers evenly divisble by third number'''\n",
    "    l = []\n",
    "    sum = 0\n",
    "    for i in range(a,b+1):\n",
    "        l.append(i)\n",
    "    \n",
    "    for j in l:\n",
    "        if j%c == 0:\n",
    "            sum = sum +j\n",
    "    print(sum)\n",
    "    \n",
    "            \n",
    "        \n",
    "        "
   ]
  },
  {
   "cell_type": "code",
   "execution_count": 8,
   "id": "29ba722d",
   "metadata": {},
   "outputs": [],
   "source": [
    "#Question3\n",
    "def rplc(a,b):\n",
    "    '''Replaces all the vowels with provided character in a string'''\n",
    "    vowels = 'AEIOUaeiou'\n",
    "    for i in vowels:\n",
    "            a = a.replace(i,b)\n",
    "    return a\n"
   ]
  },
  {
   "cell_type": "code",
   "execution_count": 37,
   "id": "75bf82dd",
   "metadata": {},
   "outputs": [],
   "source": [
    "#Question4\n",
    "def fact(n):\n",
    "    '''Returns the factorial of a number'''\n",
    "    if n == 0 or n == 1:\n",
    "        return 1\n",
    "    else:\n",
    "        return (n*fact(n-1))\n",
    "\n",
    "\n",
    "        "
   ]
  },
  {
   "cell_type": "code",
   "execution_count": 9,
   "id": "01b8cd1a",
   "metadata": {},
   "outputs": [],
   "source": [
    "#Question5\n",
    "def ham_dist(a,b):\n",
    "    '''Returns the hamming distance between two wrods'''\n",
    "    l = []\n",
    "    for i in range(0,len(a)):\n",
    "        if a[i] == b[i]:\n",
    "            pass\n",
    "        else:\n",
    "            l.append(i)\n",
    "    print(len(l))\n",
    "        \n",
    "    "
   ]
  },
  {
   "cell_type": "code",
   "execution_count": null,
   "id": "4b48cee3",
   "metadata": {},
   "outputs": [],
   "source": [
    "\n"
   ]
  }
 ],
 "metadata": {
  "kernelspec": {
   "display_name": "Python 3 (ipykernel)",
   "language": "python",
   "name": "python3"
  },
  "language_info": {
   "codemirror_mode": {
    "name": "ipython",
    "version": 3
   },
   "file_extension": ".py",
   "mimetype": "text/x-python",
   "name": "python",
   "nbconvert_exporter": "python",
   "pygments_lexer": "ipython3",
   "version": "3.9.12"
  }
 },
 "nbformat": 4,
 "nbformat_minor": 5
}
