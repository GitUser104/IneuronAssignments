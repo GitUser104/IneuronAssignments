{
 "cells": [
  {
   "cell_type": "code",
   "execution_count": 11,
   "id": "502d84a4",
   "metadata": {},
   "outputs": [
    {
     "name": "stdout",
     "output_type": "stream",
     "text": [
      "27\n"
     ]
    }
   ],
   "source": [
    "#Program to find sum of element in a list \n",
    "l = [1,2,3,4,6,11]\n",
    "sum = 0\n",
    "for i in l:\n",
    "    sum += i\n",
    "print(sum)\n"
   ]
  },
  {
   "cell_type": "code",
   "execution_count": 17,
   "id": "d3f3c581",
   "metadata": {},
   "outputs": [
    {
     "name": "stdout",
     "output_type": "stream",
     "text": [
      "1584\n"
     ]
    }
   ],
   "source": [
    "#Program to multiply all elements in a list\n",
    "l = [1,2,3,4,6,11] \n",
    "prod = 1\n",
    "for i in l:\n",
    "    prod *= i \n",
    "print(prod)"
   ]
  },
  {
   "cell_type": "code",
   "execution_count": 23,
   "id": "58d4e5fb",
   "metadata": {},
   "outputs": [
    {
     "name": "stdout",
     "output_type": "stream",
     "text": [
      "1\n"
     ]
    }
   ],
   "source": [
    "#Program to find the smallest element in a list \n",
    "l = [1,2,3,4,6,11]\n",
    "l1 = l.sort()\n",
    "a = l[0]\n",
    "print(a)       \n"
   ]
  },
  {
   "cell_type": "code",
   "execution_count": 2,
   "id": "85df0167",
   "metadata": {},
   "outputs": [
    {
     "name": "stdout",
     "output_type": "stream",
     "text": [
      "11\n"
     ]
    }
   ],
   "source": [
    "#Program to find the largest number in a list\n",
    "l = l = [1,2,3,4,6,11]\n",
    "l1 = l.sort()\n",
    "a = l[-1]\n",
    "print(a)\n"
   ]
  },
  {
   "cell_type": "code",
   "execution_count": 54,
   "id": "6c6ea289",
   "metadata": {},
   "outputs": [
    {
     "name": "stdout",
     "output_type": "stream",
     "text": [
      "7\n"
     ]
    }
   ],
   "source": [
    "#Program to find second largest number in a list\n",
    "l = [1,4,3,5,2,11,6,7]\n",
    "max = l[0]\n",
    "for i in l:\n",
    "    if i>max:\n",
    "        max = i\n",
    "l.remove(max)\n",
    "l.sort()\n",
    "print(l[-1])"
   ]
  },
  {
   "cell_type": "code",
   "execution_count": 64,
   "id": "871375f0",
   "metadata": {},
   "outputs": [
    {
     "name": "stdout",
     "output_type": "stream",
     "text": [
      "Enter nth number: 2\n",
      "[435, 234, 54, 34, 4, 3, 1]\n",
      "435\n",
      "435\n",
      "435\n",
      "435\n",
      "435\n",
      "435\n",
      "435\n"
     ]
    }
   ],
   "source": [
    "n = int(input('Enter N element: '))\n",
    "l = []\n",
    "for i in range(0,n):\n",
    "    for j in range(0,list1):\n",
    "        \n",
    "                   \n",
    "    \n",
    "     \n"
   ]
  },
  {
   "cell_type": "code",
   "execution_count": 76,
   "id": "e82f203f",
   "metadata": {},
   "outputs": [
    {
     "name": "stdout",
     "output_type": "stream",
     "text": [
      "[2, 4, 6, 8, 10]\n"
     ]
    }
   ],
   "source": [
    "#Program to print even numbers in a list\n",
    "l = [1,2,3,4,5,6,7,8,9,10]\n",
    "k = []\n",
    "for i in l:\n",
    "    if i%2 == 0:\n",
    "        k.append(i)\n",
    "print(k)\n",
    "        \n",
    "\n",
    "\n",
    "\n"
   ]
  },
  {
   "cell_type": "code",
   "execution_count": 78,
   "id": "fcee6c1a",
   "metadata": {},
   "outputs": [
    {
     "name": "stdout",
     "output_type": "stream",
     "text": [
      "[1, 3, 5, 7, 9]\n"
     ]
    }
   ],
   "source": [
    "#Program to find all odd numbers in a list\n",
    "l = [1,2,3,4,5,6,7,8,9,10]\n",
    "k = []\n",
    "for i in l:\n",
    "    if i%2 != 0:\n",
    "        k.append(i)\n",
    "print(k)\n"
   ]
  },
  {
   "cell_type": "code",
   "execution_count": 80,
   "id": "0e23d5b5",
   "metadata": {},
   "outputs": [
    {
     "name": "stdout",
     "output_type": "stream",
     "text": [
      "[1, 2, 34, 4, 6, 8, [1, 3, 5], 21]\n"
     ]
    }
   ],
   "source": [
    "#Program to remove an empty list from a list \n",
    "l = [1,2,34,4,6,8,[],[1,3,5],21]\n",
    "k = []\n",
    "if k in l:\n",
    "    l.remove(k)\n",
    "print(l)"
   ]
  },
  {
   "cell_type": "code",
   "execution_count": 82,
   "id": "992d6d09",
   "metadata": {},
   "outputs": [
    {
     "name": "stdout",
     "output_type": "stream",
     "text": [
      "[1, 2, 3, 4, 6, 11]\n",
      "[1, 2, 3, 4, 6, 11]\n"
     ]
    }
   ],
   "source": [
    "#Program to clone or copy a list \n",
    "l = [1,2,3,4,6,11]\n",
    "k = []\n",
    "for i in l:\n",
    "    k.append(i)\n",
    "print(k)\n",
    "print(l)"
   ]
  },
  {
   "cell_type": "code",
   "execution_count": 95,
   "id": "68eaa39d",
   "metadata": {},
   "outputs": [
    {
     "name": "stdout",
     "output_type": "stream",
     "text": [
      "Enter an element: 89\n",
      "1\n"
     ]
    }
   ],
   "source": [
    "#Program to count occurences in a list \n",
    "l = [1,2,3,1,4,5,6,2,5,6,8,89]\n",
    "n = int(input('Enter an element: '))\n",
    "count = 0 \n",
    "for i in l:\n",
    "        if i == n:\n",
    "            count = count + 1\n",
    "print(count)\n",
    "\n",
    "        \n",
    "    "
   ]
  }
 ],
 "metadata": {
  "kernelspec": {
   "display_name": "Python 3 (ipykernel)",
   "language": "python",
   "name": "python3"
  },
  "language_info": {
   "codemirror_mode": {
    "name": "ipython",
    "version": 3
   },
   "file_extension": ".py",
   "mimetype": "text/x-python",
   "name": "python",
   "nbconvert_exporter": "python",
   "pygments_lexer": "ipython3",
   "version": "3.9.12"
  }
 },
 "nbformat": 4,
 "nbformat_minor": 5
}
