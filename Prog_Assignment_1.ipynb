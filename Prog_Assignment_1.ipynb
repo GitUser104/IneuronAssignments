{
 "cells": [
  {
   "cell_type": "code",
   "execution_count": 7,
   "id": "f3f0bcab",
   "metadata": {},
   "outputs": [
    {
     "name": "stdout",
     "output_type": "stream",
     "text": [
      "Hello Python!\n"
     ]
    }
   ],
   "source": [
    "#Print hello python\n",
    "print('Hello Python!')"
   ]
  },
  {
   "cell_type": "code",
   "execution_count": 8,
   "id": "092f0d81",
   "metadata": {},
   "outputs": [
    {
     "name": "stdout",
     "output_type": "stream",
     "text": [
      "15\n",
      "2.0\n"
     ]
    }
   ],
   "source": [
    "#Python program to do arithmetical operations addition and division\n",
    "a=10 \n",
    "b=5\n",
    "\n",
    "print(a+b)\n",
    "print(a/b)"
   ]
  },
  {
   "cell_type": "code",
   "execution_count": 21,
   "id": "29edb1d9",
   "metadata": {},
   "outputs": [
    {
     "name": "stdout",
     "output_type": "stream",
     "text": [
      "4\n",
      "5\n",
      "10.0\n"
     ]
    }
   ],
   "source": [
    "#Python program to find the area of a triangle\n",
    "length = int(input())\n",
    "height = int(input())\n",
    "print(0.5*length*height)\n"
   ]
  },
  {
   "cell_type": "code",
   "execution_count": 30,
   "id": "895bf59f",
   "metadata": {},
   "outputs": [
    {
     "name": "stdout",
     "output_type": "stream",
     "text": [
      "40 \n",
      "60\n",
      "Value of a after swap 60\n",
      "Value of b after swap 40\n"
     ]
    }
   ],
   "source": [
    "#Python program to swap two variables\n",
    "a=int(input())\n",
    "b=int(input())\n",
    "a,b=b,a\n",
    "print('Value of a after swap', a)\n",
    "print('Value of b after swap', b)"
   ]
  },
  {
   "cell_type": "code",
   "execution_count": 36,
   "id": "a9891051",
   "metadata": {},
   "outputs": [
    {
     "name": "stdout",
     "output_type": "stream",
     "text": [
      "87\n"
     ]
    }
   ],
   "source": [
    "#Python program to generate a random number\n",
    "import random \n",
    "print(random.randint(0,100))"
   ]
  }
 ],
 "metadata": {
  "kernelspec": {
   "display_name": "Python 3 (ipykernel)",
   "language": "python",
   "name": "python3"
  },
  "language_info": {
   "codemirror_mode": {
    "name": "ipython",
    "version": 3
   },
   "file_extension": ".py",
   "mimetype": "text/x-python",
   "name": "python",
   "nbconvert_exporter": "python",
   "pygments_lexer": "ipython3",
   "version": "3.9.12"
  }
 },
 "nbformat": 4,
 "nbformat_minor": 5
}
