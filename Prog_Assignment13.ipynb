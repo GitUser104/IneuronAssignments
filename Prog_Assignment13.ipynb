{
 "cells": [
  {
   "cell_type": "code",
   "execution_count": 32,
   "id": "c4e65ddb",
   "metadata": {},
   "outputs": [
    {
     "name": "stdout",
     "output_type": "stream",
     "text": [
      "Enter values in comma serparted form: 100,150,180\n",
      "18,22,24,"
     ]
    }
   ],
   "source": [
    "#Question 1\n",
    "import math \n",
    "D = [int(x) for x in input('Enter values in comma serparted form: ').split(',')] \n",
    "C = 50\n",
    "H = 30\n",
    "for i in D:\n",
    "    Q = math.sqrt(((2*C*i)/H))\n",
    "    print(int(Q),end=',')\n"
   ]
  },
  {
   "cell_type": "code",
   "execution_count": 50,
   "id": "31fbe0e4",
   "metadata": {},
   "outputs": [
    {
     "name": "stdout",
     "output_type": "stream",
     "text": [
      "Enter the numbers: 3,4\n"
     ]
    },
    {
     "ename": "IndexError",
     "evalue": "list index out of range",
     "output_type": "error",
     "traceback": [
      "\u001b[1;31m---------------------------------------------------------------------------\u001b[0m",
      "\u001b[1;31mIndexError\u001b[0m                                Traceback (most recent call last)",
      "Input \u001b[1;32mIn [50]\u001b[0m, in \u001b[0;36m<cell line: 7>\u001b[1;34m()\u001b[0m\n\u001b[0;32m      7\u001b[0m \u001b[38;5;28;01mfor\u001b[39;00m i \u001b[38;5;129;01min\u001b[39;00m \u001b[38;5;28mrange\u001b[39m(\u001b[38;5;241m0\u001b[39m,x):\n\u001b[0;32m      8\u001b[0m     \u001b[38;5;28;01mfor\u001b[39;00m j \u001b[38;5;129;01min\u001b[39;00m \u001b[38;5;28mrange\u001b[39m(\u001b[38;5;241m0\u001b[39m,y):\n\u001b[1;32m----> 9\u001b[0m         \u001b[43marr\u001b[49m\u001b[43m[\u001b[49m\u001b[43mi\u001b[49m\u001b[43m]\u001b[49m[j] \u001b[38;5;241m=\u001b[39m i\u001b[38;5;241m*\u001b[39mj\n\u001b[0;32m     10\u001b[0m \u001b[38;5;28mprint\u001b[39m(arr)\n",
      "\u001b[1;31mIndexError\u001b[0m: list index out of range"
     ]
    }
   ],
   "source": [
    "#Question2\n",
    "x,y = input('Enter the numbers: ').split(',')\n",
    "x = int(x)\n",
    "y = int(y)\n",
    "arr = []\n",
    "l = []\n",
    "for i in range(0,x):\n",
    "    for j in range(0,y):\n",
    "        arr[i][j] = i*j\n",
    "print(arr)\n",
    "\n"
   ]
  },
  {
   "cell_type": "code",
   "execution_count": 64,
   "id": "c0794276",
   "metadata": {},
   "outputs": [
    {
     "name": "stdout",
     "output_type": "stream",
     "text": [
      "Enter a comma separated string: without,hello,bag,world\n",
      "bag,hello,without,world\n"
     ]
    }
   ],
   "source": [
    "#Question3\n",
    "str1 = input('Enter a comma separated string: ').split(',')\n",
    "z = sorted(str1)\n",
    "k = ','.join(z)\n",
    "print(k)\n",
    "    \n",
    "    "
   ]
  },
  {
   "cell_type": "code",
   "execution_count": 72,
   "id": "9884d3cb",
   "metadata": {},
   "outputs": [
    {
     "name": "stdout",
     "output_type": "stream",
     "text": [
      "Enter the words: hello world and practice makes perfect and hello world again\n",
      "again,and,hello,makes,perfect,practice,world\n"
     ]
    }
   ],
   "source": [
    "#Question4\n",
    "str1 = input('Enter the words: ').split()\n",
    "z = []\n",
    "for i in str1:\n",
    "    if i not in z:\n",
    "        z.append(i)\n",
    "k = ','.join(sorted(z))\n",
    "\n",
    "print(k)\n",
    "    \n",
    "            \n"
   ]
  },
  {
   "cell_type": "code",
   "execution_count": 111,
   "id": "a70e6595",
   "metadata": {
    "scrolled": true
   },
   "outputs": [
    {
     "name": "stdout",
     "output_type": "stream",
     "text": [
      "Enter the passwords: ABd1234@1,a F1#,2w3E*,2We3345\n",
      "unvalid\n",
      "unvalid\n",
      "unvalid\n",
      "unvalid2\n",
      "unvalid2\n",
      "unvalid2\n",
      "unvalid2\n",
      "unvalid2\n",
      "unvalid2\n",
      "unvalid2\n",
      "[]\n"
     ]
    }
   ],
   "source": [
    "#Question5\n",
    "import re\n",
    "password = input('Enter the passwords: ').split(',')\n",
    "if password<6 or password>12:\n",
    "    if "
   ]
  },
  {
   "cell_type": "code",
   "execution_count": 136,
   "id": "fc79cb0a",
   "metadata": {},
   "outputs": [
    {
     "name": "stdout",
     "output_type": "stream",
     "text": [
      "Enter the passwords: abCde@4\n"
     ]
    }
   ],
   "source": [
    "\n",
    "    \n",
    "    \n"
   ]
  },
  {
   "cell_type": "code",
   "execution_count": 138,
   "id": "7bd05d6e",
   "metadata": {},
   "outputs": [
    {
     "name": "stdout",
     "output_type": "stream",
     "text": [
      "Not a Valid Password\n"
     ]
    }
   ],
   "source": [
    "import re\n",
    "p= (\"Input your password\").split(',')\n",
    "for i in p:\n",
    "    x = True\n",
    "    while x:  \n",
    "        if (len(p)<6 or len(p)>12):\n",
    "            break\n",
    "        elif not re.search(\"[a-z]\",i):\n",
    "            break\n",
    "        elif not re.search(\"[0-9]\",i):\n",
    "            break\n",
    "        elif not re.search(\"[A-Z]\",i):\n",
    "            break\n",
    "        elif not re.search(\"[$#@]\",i):\n",
    "            break\n",
    "        elif re.search(\"\\s\",i):\n",
    "            break\n",
    "        else:\n",
    "            print(\"Valid Password\")\n",
    "            x=False\n",
    "            break\n",
    "\n",
    "    if x:\n",
    "        print(\"Not a Valid Password\")\n"
   ]
  },
  {
   "cell_type": "code",
   "execution_count": null,
   "id": "9042d5d6",
   "metadata": {},
   "outputs": [],
   "source": []
  },
  {
   "cell_type": "code",
   "execution_count": null,
   "id": "00a2a655",
   "metadata": {},
   "outputs": [],
   "source": []
  }
 ],
 "metadata": {
  "kernelspec": {
   "display_name": "Python 3 (ipykernel)",
   "language": "python",
   "name": "python3"
  },
  "language_info": {
   "codemirror_mode": {
    "name": "ipython",
    "version": 3
   },
   "file_extension": ".py",
   "mimetype": "text/x-python",
   "name": "python",
   "nbconvert_exporter": "python",
   "pygments_lexer": "ipython3",
   "version": "3.9.12"
  }
 },
 "nbformat": 4,
 "nbformat_minor": 5
}
