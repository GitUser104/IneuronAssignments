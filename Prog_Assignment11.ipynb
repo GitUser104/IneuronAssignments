{
 "cells": [
  {
   "cell_type": "code",
   "execution_count": 3,
   "id": "daa80f86",
   "metadata": {},
   "outputs": [
    {
     "name": "stdout",
     "output_type": "stream",
     "text": [
      "Enter word length: 4\n",
      "hijkl\n",
      "mnopq\n",
      "mnort\n"
     ]
    }
   ],
   "source": [
    "#Program to find the words that have a length greater than k\n",
    "l = ['abc','defg','hijkl','mnopq','mnort']\n",
    "k = int(input('Enter word length: '))\n",
    "for i in l:\n",
    "    if len(i)>k:\n",
    "        print(i)\n"
   ]
  },
  {
   "cell_type": "code",
   "execution_count": 58,
   "id": "271e5761",
   "metadata": {},
   "outputs": [
    {
     "name": "stdout",
     "output_type": "stream",
     "text": [
      "Enter the charater to be removed: e\n",
      "lionelmessiisthegoat\n"
     ]
    }
   ],
   "source": [
    "#Program to remove ith character\n",
    "s = 'lionelmessiisthegoat'\n",
    "k = input('Enter the charater to be removed: ')\n",
    "count = 0\n",
    "for i in s:\n",
    "    if i == k:\n",
    "        count = count + 1\n",
    "        s.replace(i,'',count)\n",
    "    else:\n",
    "        pass\n",
    "\n",
    "        \n",
    "        "
   ]
  },
  {
   "cell_type": "code",
   "execution_count": 26,
   "id": "d099b65f",
   "metadata": {},
   "outputs": [
    {
     "name": "stdout",
     "output_type": "stream",
     "text": [
      "asda\n",
      "bada\n",
      "asdabada\n"
     ]
    }
   ],
   "source": [
    "#Program to split and join a string\n",
    "s = 'asdabada'\n",
    "q = s[:4]\n",
    "print(q)\n",
    "r = s[4:]\n",
    "print(r)\n",
    "t = q + r\n",
    "print(t)"
   ]
  },
  {
   "cell_type": "code",
   "execution_count": 6,
   "id": "5b8feb19",
   "metadata": {},
   "outputs": [
    {
     "name": "stdout",
     "output_type": "stream",
     "text": [
      "Not a binary string\n"
     ]
    }
   ],
   "source": [
    "#Program to check if the string is binary or not \n",
    "s = '01010101'\n",
    "s1 = '1231455'\n",
    "for i in s:\n",
    "    if int(i) != 0 or int(i) != 1:\n",
    "        print('Not a binary string')\n",
    "        break\n",
    "    else:\n",
    "        print('binary')\n",
    "    "
   ]
  },
  {
   "cell_type": "code",
   "execution_count": 8,
   "id": "44e324bd",
   "metadata": {},
   "outputs": [
    {
     "name": "stdout",
     "output_type": "stream",
     "text": [
      "['l', 'o', 'n', 'l', 'o']\n"
     ]
    }
   ],
   "source": [
    "#Program to find all uncommon words from two strings\n",
    "s1 = 'lionel messi is the goat'\n",
    "s2 = 'messi is the greatest'\n",
    "k =[]\n",
    "for i in s1:\n",
    "    if i in s2:\n",
    "        pass\n",
    "    else:\n",
    "        k.append(i)\n",
    "print(k)\n",
    "        "
   ]
  },
  {
   "cell_type": "code",
   "execution_count": 15,
   "id": "d7c5e75d",
   "metadata": {},
   "outputs": [
    {
     "name": "stdout",
     "output_type": "stream",
     "text": [
      "{'o', 's', 't', 'l', 'i', 'e'}\n"
     ]
    }
   ],
   "source": [
    "#Program to find duplicate characters in a string \n",
    "s1 = 'lionel messi is the goat'\n",
    "k = set()\n",
    "for i in s1:\n",
    "    counts = s1.count(i)\n",
    "    if counts > 1 and i!=' ' :\n",
    "        k.add(i)\n",
    "    else:\n",
    "        pass\n",
    "print(k)\n",
    "\n",
    "    \n",
    "    \n",
    "\n",
    "    \n",
    "    \n",
    "    \n",
    "        \n",
    "    \n",
    "            "
   ]
  },
  {
   "cell_type": "code",
   "execution_count": 44,
   "id": "899a4363",
   "metadata": {},
   "outputs": [
    {
     "name": "stdout",
     "output_type": "stream",
     "text": [
      "['!', '@', '&', '#']\n"
     ]
    }
   ],
   "source": [
    "#Program to check for special characters\n",
    "s1 = 'lionel ! @ & messi is # the goat'\n",
    "k = []\n",
    "for i in s1:\n",
    "    if i.isalnum() == True :\n",
    "        pass\n",
    "    else:\n",
    "        k.append(i)\n",
    "    for i in k:\n",
    "        if i == ' ':\n",
    "            k.remove(i)\n",
    "print(k)\n",
    "\n"
   ]
  }
 ],
 "metadata": {
  "kernelspec": {
   "display_name": "Python 3 (ipykernel)",
   "language": "python",
   "name": "python3"
  },
  "language_info": {
   "codemirror_mode": {
    "name": "ipython",
    "version": 3
   },
   "file_extension": ".py",
   "mimetype": "text/x-python",
   "name": "python",
   "nbconvert_exporter": "python",
   "pygments_lexer": "ipython3",
   "version": "3.9.12"
  }
 },
 "nbformat": 4,
 "nbformat_minor": 5
}
